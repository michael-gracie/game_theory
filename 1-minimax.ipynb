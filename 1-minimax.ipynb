{
 "cells": [
  {
   "cell_type": "code",
   "execution_count": 65,
   "metadata": {},
   "outputs": [],
   "source": [
    "import numpy as np\n",
    "from copy import deepcopy\n",
    "from ipywidgets import interact, interactive, fixed, interact_manual, Layout\n",
    "import ipywidgets as widgets\n",
    "from tictactoe import init_board, show_board, check_winner, available_moves"
   ]
  },
  {
   "cell_type": "markdown",
   "metadata": {},
   "source": [
    "## Initalizing Tic Tac Toe board"
   ]
  },
  {
   "cell_type": "code",
   "execution_count": 66,
   "metadata": {},
   "outputs": [],
   "source": [
    "board = init_board()"
   ]
  },
  {
   "cell_type": "markdown",
   "metadata": {},
   "source": [
    "## Implementing minimax"
   ]
  },
  {
   "cell_type": "code",
   "execution_count": 67,
   "metadata": {},
   "outputs": [],
   "source": [
    "def minimax(board, depth, state, quiet = False):\n",
    "    tab = depth*'\\t'\n",
    "    if not quiet:\n",
    "        print(tab + show_board(board).replace('\\n', f'\\n{tab}'))\n",
    "    if check_winner(board):\n",
    "        if check_winner(board) == 'X':\n",
    "            return 1\n",
    "        else:\n",
    "            return -1\n",
    "    elif len(available_moves(board)) == 0:\n",
    "        return 0\n",
    "    if state == 'X':\n",
    "        value = -100\n",
    "        for move in available_moves(board):\n",
    "            board_copy = deepcopy(board)\n",
    "            board_copy[move[0],move[1]] = state\n",
    "            value = max(value, minimax(board_copy, depth + 1, 'O', quiet = quiet))\n",
    "        return value\n",
    "    elif state == 'O':\n",
    "        value = 100\n",
    "        for move in available_moves(board):\n",
    "            board_copy = deepcopy(board)\n",
    "            board_copy[move[0],move[1]] = state\n",
    "            value = min(value, minimax(board_copy, depth + 1, 'X', quiet = quiet))\n",
    "        return value"
   ]
  },
  {
   "cell_type": "markdown",
   "metadata": {},
   "source": [
    "## Running a game where X is gauranteed to win"
   ]
  },
  {
   "cell_type": "code",
   "execution_count": 68,
   "metadata": {},
   "outputs": [],
   "source": [
    "board[0,0] = 'X'\n",
    "board[1,1] = 'O'\n",
    "board[0,1] = 'O'\n",
    "board[1,0] = 'O'\n",
    "board[1,2] = 'X'\n",
    "board[2,1] = 'X'"
   ]
  },
  {
   "cell_type": "code",
   "execution_count": 69,
   "metadata": {
    "scrolled": true
   },
   "outputs": [
    {
     "name": "stdout",
     "output_type": "stream",
     "text": [
      "X|O| \n",
      "-----\n",
      "O|O|X\n",
      "-----\n",
      " |X| \n"
     ]
    }
   ],
   "source": [
    "print(show_board(board))"
   ]
  },
  {
   "cell_type": "markdown",
   "metadata": {},
   "source": [
    "### Minimax recursively runs all potential moves"
   ]
  },
  {
   "cell_type": "code",
   "execution_count": 70,
   "metadata": {
    "scrolled": false
   },
   "outputs": [
    {
     "name": "stdout",
     "output_type": "stream",
     "text": [
      "X|O| \n",
      "-----\n",
      "O|O|X\n",
      "-----\n",
      " |X| \n",
      "\tX|O|X\n",
      "\t-----\n",
      "\tO|O|X\n",
      "\t-----\n",
      "\t |X| \n",
      "\t\tX|O|X\n",
      "\t\t-----\n",
      "\t\tO|O|X\n",
      "\t\t-----\n",
      "\t\tO|X| \n",
      "\t\t\tX|O|X\n",
      "\t\t\t-----\n",
      "\t\t\tO|O|X\n",
      "\t\t\t-----\n",
      "\t\t\tO|X|X\n",
      "\t\tX|O|X\n",
      "\t\t-----\n",
      "\t\tO|O|X\n",
      "\t\t-----\n",
      "\t\t |X|O\n",
      "\t\t\tX|O|X\n",
      "\t\t\t-----\n",
      "\t\t\tO|O|X\n",
      "\t\t\t-----\n",
      "\t\t\tX|X|O\n",
      "\tX|O| \n",
      "\t-----\n",
      "\tO|O|X\n",
      "\t-----\n",
      "\tX|X| \n",
      "\t\tX|O|O\n",
      "\t\t-----\n",
      "\t\tO|O|X\n",
      "\t\t-----\n",
      "\t\tX|X| \n",
      "\t\t\tX|O|O\n",
      "\t\t\t-----\n",
      "\t\t\tO|O|X\n",
      "\t\t\t-----\n",
      "\t\t\tX|X|X\n",
      "\t\tX|O| \n",
      "\t\t-----\n",
      "\t\tO|O|X\n",
      "\t\t-----\n",
      "\t\tX|X|O\n",
      "\t\t\tX|O|X\n",
      "\t\t\t-----\n",
      "\t\t\tO|O|X\n",
      "\t\t\t-----\n",
      "\t\t\tX|X|O\n",
      "\tX|O| \n",
      "\t-----\n",
      "\tO|O|X\n",
      "\t-----\n",
      "\t |X|X\n",
      "\t\tX|O|O\n",
      "\t\t-----\n",
      "\t\tO|O|X\n",
      "\t\t-----\n",
      "\t\t |X|X\n",
      "\t\t\tX|O|O\n",
      "\t\t\t-----\n",
      "\t\t\tO|O|X\n",
      "\t\t\t-----\n",
      "\t\t\tX|X|X\n",
      "\t\tX|O| \n",
      "\t\t-----\n",
      "\t\tO|O|X\n",
      "\t\t-----\n",
      "\t\tO|X|X\n",
      "\t\t\tX|O|X\n",
      "\t\t\t-----\n",
      "\t\t\tO|O|X\n",
      "\t\t\t-----\n",
      "\t\t\tO|X|X\n"
     ]
    },
    {
     "data": {
      "text/plain": [
       "1"
      ]
     },
     "execution_count": 70,
     "metadata": {},
     "output_type": "execute_result"
    }
   ],
   "source": [
    "minimax(board, 0, 'X')"
   ]
  },
  {
   "cell_type": "markdown",
   "metadata": {},
   "source": [
    "### Where is this optimal move? Bottom right ... looks to be correct"
   ]
  },
  {
   "cell_type": "code",
   "execution_count": 71,
   "metadata": {},
   "outputs": [
    {
     "name": "stdout",
     "output_type": "stream",
     "text": [
      "X|O| \n",
      "-----\n",
      "O|O|X\n",
      "-----\n",
      " |X| \n"
     ]
    }
   ],
   "source": [
    "print(show_board(board))"
   ]
  },
  {
   "cell_type": "code",
   "execution_count": 72,
   "metadata": {
    "scrolled": true
   },
   "outputs": [
    {
     "name": "stdout",
     "output_type": "stream",
     "text": [
      "Row: 0, Column: 2 Optimal Payoff: 0\n",
      "Row: 2, Column: 0 Optimal Payoff: 0\n",
      "Row: 2, Column: 2 Optimal Payoff: 1\n"
     ]
    }
   ],
   "source": [
    "depth = 0\n",
    "for move in available_moves(board):\n",
    "    board_copy = deepcopy(board)\n",
    "    board_copy[move[0],move[1]] = 'X'\n",
    "    value = minimax(board_copy, depth + 1, 'O', quiet = True)\n",
    "    print(f'Row: {move[0]}, Column: {move[1]} Optimal Payoff:', value)"
   ]
  }
 ],
 "metadata": {
  "kernelspec": {
   "display_name": "Python 3",
   "language": "python",
   "name": "python3"
  },
  "language_info": {
   "codemirror_mode": {
    "name": "ipython",
    "version": 3
   },
   "file_extension": ".py",
   "mimetype": "text/x-python",
   "name": "python",
   "nbconvert_exporter": "python",
   "pygments_lexer": "ipython3",
   "version": "3.7.3"
  }
 },
 "nbformat": 4,
 "nbformat_minor": 2
}
