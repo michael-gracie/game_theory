{
 "cells": [
  {
   "cell_type": "code",
   "execution_count": 28,
   "metadata": {},
   "outputs": [],
   "source": [
    "import numpy as np\n",
    "from copy import deepcopy\n",
    "from ipywidgets import interact, interactive, fixed, interact_manual, Layout\n",
    "import ipywidgets as widgets"
   ]
  },
  {
   "cell_type": "markdown",
   "metadata": {},
   "source": [
    "## Initalizing Tic Tac Toe board"
   ]
  },
  {
   "cell_type": "code",
   "execution_count": 29,
   "metadata": {},
   "outputs": [],
   "source": [
    "board = np.full((3, 3), ' ')"
   ]
  },
  {
   "cell_type": "code",
   "execution_count": 30,
   "metadata": {
    "scrolled": true
   },
   "outputs": [
    {
     "data": {
      "text/plain": [
       "array([[' ', ' ', ' '],\n",
       "       [' ', ' ', ' '],\n",
       "       [' ', ' ', ' ']], dtype='<U1')"
      ]
     },
     "execution_count": 30,
     "metadata": {},
     "output_type": "execute_result"
    }
   ],
   "source": [
    "board"
   ]
  },
  {
   "cell_type": "code",
   "execution_count": 31,
   "metadata": {},
   "outputs": [],
   "source": [
    "def show_board(board):\n",
    "    output = ''\n",
    "    first_line = True\n",
    "    for line in board:\n",
    "        first_element = True\n",
    "        if first_line:\n",
    "            for element in line:\n",
    "                if first_element:\n",
    "                    first_element = False\n",
    "                    output += f'{element}'   \n",
    "                else:\n",
    "                    output += f'|{element}'          \n",
    "            first_line = False\n",
    "        else:\n",
    "            output += '\\n-----\\n'\n",
    "            for element in line:\n",
    "                if first_element:\n",
    "                    first_element = False\n",
    "                    output += f'{element}'   \n",
    "                else:\n",
    "                    output += f'|{element}'\n",
    "    return output"
   ]
  },
  {
   "cell_type": "code",
   "execution_count": 32,
   "metadata": {
    "scrolled": true
   },
   "outputs": [
    {
     "name": "stdout",
     "output_type": "stream",
     "text": [
      " | | \n",
      "-----\n",
      " | | \n",
      "-----\n",
      " | | \n"
     ]
    }
   ],
   "source": [
    "print(show_board(board))"
   ]
  },
  {
   "cell_type": "code",
   "execution_count": 33,
   "metadata": {},
   "outputs": [],
   "source": [
    "def row_equal(row):\n",
    "    if len(set(row)) == 1 and ' ' not in row:\n",
    "        return True"
   ]
  },
  {
   "cell_type": "code",
   "execution_count": 34,
   "metadata": {},
   "outputs": [],
   "source": [
    "def check_winner(board):\n",
    "    for row in board:\n",
    "        if row_equal(row):\n",
    "            return row[0]\n",
    "    for column in board.T:\n",
    "        if row_equal(column):\n",
    "            return column[0] \n",
    "    if row_equal(np.diag(board)):\n",
    "        return np.diag(board)[0]\n",
    "    if row_equal(np.diag(np.fliplr(board))):\n",
    "        return np.diag(np.fliplr(board))[0]\n",
    "    return None\n",
    "            "
   ]
  },
  {
   "cell_type": "code",
   "execution_count": 35,
   "metadata": {
    "scrolled": true
   },
   "outputs": [],
   "source": [
    "def available_moves(board):\n",
    "    return np.argwhere(board == ' ')"
   ]
  },
  {
   "cell_type": "markdown",
   "metadata": {},
   "source": [
    "## Implementing minimax"
   ]
  },
  {
   "cell_type": "code",
   "execution_count": 36,
   "metadata": {},
   "outputs": [],
   "source": [
    "def minimax(board, depth, state, quiet = False):\n",
    "    tab = depth*'\\t'\n",
    "    if not quiet:\n",
    "        print(tab + show_board(board).replace('\\n', f'\\n{tab}'))\n",
    "    if check_winner(board):\n",
    "        if check_winner(board) == 'X':\n",
    "            return 1\n",
    "        else:\n",
    "            return -1\n",
    "    elif len(available_moves(board)) == 0:\n",
    "        return 0\n",
    "    if state == 'X':\n",
    "        value = -100\n",
    "        for move in available_moves(board):\n",
    "            board_copy = deepcopy(board)\n",
    "            board_copy[move[0],move[1]] = state\n",
    "            value = max(value, minimax(board_copy, depth + 1, 'O', quiet = quiet))\n",
    "        return value\n",
    "    elif state == 'O':\n",
    "        value = 100\n",
    "        for move in available_moves(board):\n",
    "            board_copy = deepcopy(board)\n",
    "            board_copy[move[0],move[1]] = state\n",
    "            value = min(value, minimax(board_copy, depth + 1, 'X', quiet = quiet))\n",
    "        return value"
   ]
  },
  {
   "cell_type": "markdown",
   "metadata": {},
   "source": [
    "## Running a game where X is gauranteed to win"
   ]
  },
  {
   "cell_type": "code",
   "execution_count": 37,
   "metadata": {},
   "outputs": [],
   "source": [
    "board = np.full((3, 3), ' ')"
   ]
  },
  {
   "cell_type": "code",
   "execution_count": 38,
   "metadata": {},
   "outputs": [],
   "source": [
    "board[0,0] = 'X'\n",
    "board[1,1] = 'O'\n",
    "board[0,1] = 'O'\n",
    "board[1,0] = 'O'\n",
    "board[1,2] = 'X'\n",
    "board[2,1] = 'X'"
   ]
  },
  {
   "cell_type": "code",
   "execution_count": 39,
   "metadata": {
    "scrolled": true
   },
   "outputs": [
    {
     "name": "stdout",
     "output_type": "stream",
     "text": [
      "X|O| \n",
      "-----\n",
      "O|O|X\n",
      "-----\n",
      " |X| \n"
     ]
    }
   ],
   "source": [
    "print(show_board(board))"
   ]
  },
  {
   "cell_type": "markdown",
   "metadata": {},
   "source": [
    "### Minimax returns 1, with optimal play that is gaurenteed"
   ]
  },
  {
   "cell_type": "code",
   "execution_count": 40,
   "metadata": {
    "scrolled": false
   },
   "outputs": [
    {
     "name": "stdout",
     "output_type": "stream",
     "text": [
      "X|O| \n",
      "-----\n",
      "O|O|X\n",
      "-----\n",
      " |X| \n",
      "\tX|O|X\n",
      "\t-----\n",
      "\tO|O|X\n",
      "\t-----\n",
      "\t |X| \n",
      "\t\tX|O|X\n",
      "\t\t-----\n",
      "\t\tO|O|X\n",
      "\t\t-----\n",
      "\t\tO|X| \n",
      "\t\t\tX|O|X\n",
      "\t\t\t-----\n",
      "\t\t\tO|O|X\n",
      "\t\t\t-----\n",
      "\t\t\tO|X|X\n",
      "\t\tX|O|X\n",
      "\t\t-----\n",
      "\t\tO|O|X\n",
      "\t\t-----\n",
      "\t\t |X|O\n",
      "\t\t\tX|O|X\n",
      "\t\t\t-----\n",
      "\t\t\tO|O|X\n",
      "\t\t\t-----\n",
      "\t\t\tX|X|O\n",
      "\tX|O| \n",
      "\t-----\n",
      "\tO|O|X\n",
      "\t-----\n",
      "\tX|X| \n",
      "\t\tX|O|O\n",
      "\t\t-----\n",
      "\t\tO|O|X\n",
      "\t\t-----\n",
      "\t\tX|X| \n",
      "\t\t\tX|O|O\n",
      "\t\t\t-----\n",
      "\t\t\tO|O|X\n",
      "\t\t\t-----\n",
      "\t\t\tX|X|X\n",
      "\t\tX|O| \n",
      "\t\t-----\n",
      "\t\tO|O|X\n",
      "\t\t-----\n",
      "\t\tX|X|O\n",
      "\t\t\tX|O|X\n",
      "\t\t\t-----\n",
      "\t\t\tO|O|X\n",
      "\t\t\t-----\n",
      "\t\t\tX|X|O\n",
      "\tX|O| \n",
      "\t-----\n",
      "\tO|O|X\n",
      "\t-----\n",
      "\t |X|X\n",
      "\t\tX|O|O\n",
      "\t\t-----\n",
      "\t\tO|O|X\n",
      "\t\t-----\n",
      "\t\t |X|X\n",
      "\t\t\tX|O|O\n",
      "\t\t\t-----\n",
      "\t\t\tO|O|X\n",
      "\t\t\t-----\n",
      "\t\t\tX|X|X\n",
      "\t\tX|O| \n",
      "\t\t-----\n",
      "\t\tO|O|X\n",
      "\t\t-----\n",
      "\t\tO|X|X\n",
      "\t\t\tX|O|X\n",
      "\t\t\t-----\n",
      "\t\t\tO|O|X\n",
      "\t\t\t-----\n",
      "\t\t\tO|X|X\n"
     ]
    },
    {
     "data": {
      "text/plain": [
       "1"
      ]
     },
     "execution_count": 40,
     "metadata": {},
     "output_type": "execute_result"
    }
   ],
   "source": [
    "minimax(board, 0, 'X')"
   ]
  },
  {
   "cell_type": "markdown",
   "metadata": {},
   "source": [
    "### Examining just the first level of the tree"
   ]
  },
  {
   "cell_type": "code",
   "execution_count": 41,
   "metadata": {
    "scrolled": true
   },
   "outputs": [
    {
     "name": "stdout",
     "output_type": "stream",
     "text": [
      "Row: 0, Column: 2 Optimal Value: 0\n",
      "Row: 2, Column: 0 Optimal Value: 0\n",
      "Row: 2, Column: 2 Optimal Value: 1\n"
     ]
    }
   ],
   "source": [
    "depth = 0\n",
    "for move in available_moves(board):\n",
    "    board_copy = deepcopy(board)\n",
    "    board_copy[move[0],move[1]] = 'X'\n",
    "    value = minimax(board_copy, depth + 1, 'O', quiet = True)\n",
    "    print(f'Row: {move[0]}, Column: {move[1]} Optimal Value:', value)"
   ]
  },
  {
   "cell_type": "markdown",
   "metadata": {},
   "source": [
    "## A game where the best you can do is tie"
   ]
  },
  {
   "cell_type": "code",
   "execution_count": 42,
   "metadata": {},
   "outputs": [],
   "source": [
    "board = np.full((3, 3), ' ')"
   ]
  },
  {
   "cell_type": "code",
   "execution_count": 43,
   "metadata": {},
   "outputs": [],
   "source": [
    "board[0,0] = 'X'\n",
    "board[1,1] = 'O'\n",
    "board[0,1] = 'O'\n",
    "board[2,0] = 'O'\n",
    "board[1,2] = 'X'\n",
    "board[2,1] = 'X'"
   ]
  },
  {
   "cell_type": "code",
   "execution_count": 44,
   "metadata": {},
   "outputs": [
    {
     "data": {
      "text/plain": [
       "array([['X', 'O', ' '],\n",
       "       [' ', 'O', 'X'],\n",
       "       ['O', 'X', ' ']], dtype='<U1')"
      ]
     },
     "execution_count": 44,
     "metadata": {},
     "output_type": "execute_result"
    }
   ],
   "source": [
    "board"
   ]
  },
  {
   "cell_type": "code",
   "execution_count": 45,
   "metadata": {},
   "outputs": [
    {
     "data": {
      "text/plain": [
       "0"
      ]
     },
     "execution_count": 45,
     "metadata": {},
     "output_type": "execute_result"
    }
   ],
   "source": [
    "minimax(board, 0, 'X', quiet = True)"
   ]
  },
  {
   "cell_type": "markdown",
   "metadata": {},
   "source": [
    "# Cool it works!"
   ]
  },
  {
   "cell_type": "markdown",
   "metadata": {},
   "source": []
  },
  {
   "cell_type": "code",
   "execution_count": 46,
   "metadata": {},
   "outputs": [],
   "source": [
    "board = np.full((3, 3), ' ')"
   ]
  },
  {
   "cell_type": "code",
   "execution_count": 47,
   "metadata": {},
   "outputs": [
    {
     "data": {
      "text/plain": [
       "array([[0, 0],\n",
       "       [0, 1],\n",
       "       [0, 2],\n",
       "       [1, 0],\n",
       "       [1, 1],\n",
       "       [1, 2],\n",
       "       [2, 0],\n",
       "       [2, 1],\n",
       "       [2, 2]])"
      ]
     },
     "execution_count": 47,
     "metadata": {},
     "output_type": "execute_result"
    }
   ],
   "source": [
    "available_moves(board)"
   ]
  },
  {
   "cell_type": "code",
   "execution_count": 48,
   "metadata": {},
   "outputs": [],
   "source": [
    "moves = [','.join(str(y) for y in x) for x in available_moves(board)]"
   ]
  },
  {
   "cell_type": "code",
   "execution_count": 49,
   "metadata": {},
   "outputs": [],
   "source": [
    "enter_output = widgets.Output()"
   ]
  },
  {
   "cell_type": "code",
   "execution_count": 50,
   "metadata": {},
   "outputs": [],
   "source": [
    "def play_move(dummy):\n",
    "    selected_move = [int(x) for x in drop.value.split(',')]\n",
    "    with enter_output:\n",
    "        print(f'Row: {selected_move[0]}, Column: {selected_move[1]}')\n",
    "    if board[selected_move[0],selected_move[1]] != ' ': \n",
    "        with enter_output:\n",
    "            print('Space Already Taken')       \n",
    "    else:\n",
    "        board[selected_move[0],selected_move[1]] = 'X'\n",
    "        set_move = None\n",
    "        set_value = 100\n",
    "        if len(available_moves(board)) > 0:\n",
    "            for move in available_moves(board):\n",
    "                board_copy = deepcopy(board)\n",
    "                board_copy[move[0],move[1]] = 'O'\n",
    "                min_value = minimax(board_copy, 0, 'X', quiet = True)\n",
    "                if min_value < set_value:\n",
    "                        set_move = move\n",
    "                        set_value = value\n",
    "            board[set_move[0],set_move[1]] = 'O'\n",
    "        with enter_output:\n",
    "            print(show_board(board))\n",
    "            "
   ]
  },
  {
   "cell_type": "code",
   "execution_count": 51,
   "metadata": {},
   "outputs": [],
   "source": [
    "drop = widgets.Dropdown(\n",
    "    options=moves,\n",
    "    description='Move (Row, Column):',\n",
    "    disabled=False,\n",
    "    style={'description_width': 'initial'}\n",
    ")"
   ]
  },
  {
   "cell_type": "code",
   "execution_count": 52,
   "metadata": {},
   "outputs": [],
   "source": [
    "enter = widgets.Button(\n",
    "    description='Enter',\n",
    "    disabled=False,\n",
    "    button_style='', # 'success', 'info', 'warning', 'danger' or ''\n",
    "    tooltip='Play',\n",
    "    icon='check'\n",
    ")"
   ]
  },
  {
   "cell_type": "code",
   "execution_count": 53,
   "metadata": {},
   "outputs": [],
   "source": [
    "enter.on_click(play_move)"
   ]
  },
  {
   "cell_type": "code",
   "execution_count": 54,
   "metadata": {
    "scrolled": false
   },
   "outputs": [
    {
     "data": {
      "application/vnd.jupyter.widget-view+json": {
       "model_id": "71aa1723ef6043d6ad25f9de81b1b4c9",
       "version_major": 2,
       "version_minor": 0
      },
      "text/plain": [
       "Dropdown(description='Move (Row, Column):', options=('0,0', '0,1', '0,2', '1,0', '1,1', '1,2', '2,0', '2,1', '…"
      ]
     },
     "metadata": {},
     "output_type": "display_data"
    },
    {
     "data": {
      "application/vnd.jupyter.widget-view+json": {
       "model_id": "8b71c0c797f7471b97e1498bbb8244d5",
       "version_major": 2,
       "version_minor": 0
      },
      "text/plain": [
       "Button(description='Enter', icon='check', style=ButtonStyle(), tooltip='Play')"
      ]
     },
     "metadata": {},
     "output_type": "display_data"
    },
    {
     "data": {
      "application/vnd.jupyter.widget-view+json": {
       "model_id": "9b1d763e0097464aa641c578b258c07b",
       "version_major": 2,
       "version_minor": 0
      },
      "text/plain": [
       "Output()"
      ]
     },
     "metadata": {},
     "output_type": "display_data"
    }
   ],
   "source": [
    "display(drop, enter, enter_output)"
   ]
  }
 ],
 "metadata": {
  "kernelspec": {
   "display_name": "Python 3",
   "language": "python",
   "name": "python3"
  },
  "language_info": {
   "codemirror_mode": {
    "name": "ipython",
    "version": 3
   },
   "file_extension": ".py",
   "mimetype": "text/x-python",
   "name": "python",
   "nbconvert_exporter": "python",
   "pygments_lexer": "ipython3",
   "version": "3.7.3"
  }
 },
 "nbformat": 4,
 "nbformat_minor": 2
}
