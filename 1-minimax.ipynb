{
 "cells": [
  {
   "cell_type": "code",
   "execution_count": 220,
   "metadata": {},
   "outputs": [],
   "source": [
    "import numpy as np\n",
    "from copy import deepcopy"
   ]
  },
  {
   "cell_type": "markdown",
   "metadata": {},
   "source": [
    "## Initalizing Tic Tac Toe board"
   ]
  },
  {
   "cell_type": "code",
   "execution_count": 221,
   "metadata": {},
   "outputs": [],
   "source": [
    "board = np.full((3, 3), ' ')"
   ]
  },
  {
   "cell_type": "code",
   "execution_count": 222,
   "metadata": {
    "scrolled": true
   },
   "outputs": [
    {
     "data": {
      "text/plain": [
       "array([[' ', ' ', ' '],\n",
       "       [' ', ' ', ' '],\n",
       "       [' ', ' ', ' ']], dtype='<U1')"
      ]
     },
     "execution_count": 222,
     "metadata": {},
     "output_type": "execute_result"
    }
   ],
   "source": [
    "board"
   ]
  },
  {
   "cell_type": "code",
   "execution_count": 223,
   "metadata": {},
   "outputs": [],
   "source": [
    "def display(board):\n",
    "    output = ''\n",
    "    first_line = True\n",
    "    for line in board:\n",
    "        first_element = True\n",
    "        if first_line:\n",
    "            for element in line:\n",
    "                if first_element:\n",
    "                    first_element = False\n",
    "                    output += f'{element}'   \n",
    "                else:\n",
    "                    output += f'|{element}'          \n",
    "            first_line = False\n",
    "        else:\n",
    "            output += '\\n-----\\n'\n",
    "            for element in line:\n",
    "                if first_element:\n",
    "                    first_element = False\n",
    "                    output += f'{element}'   \n",
    "                else:\n",
    "                    output += f'|{element}'\n",
    "    return output"
   ]
  },
  {
   "cell_type": "code",
   "execution_count": 224,
   "metadata": {
    "scrolled": true
   },
   "outputs": [
    {
     "name": "stdout",
     "output_type": "stream",
     "text": [
      " | | \n",
      "-----\n",
      " | | \n",
      "-----\n",
      " | | \n"
     ]
    }
   ],
   "source": [
    "print(display(board))"
   ]
  },
  {
   "cell_type": "code",
   "execution_count": 225,
   "metadata": {},
   "outputs": [],
   "source": [
    "def row_equal(row):\n",
    "    if len(set(row)) == 1 and ' ' not in row:\n",
    "        return True"
   ]
  },
  {
   "cell_type": "code",
   "execution_count": 226,
   "metadata": {},
   "outputs": [],
   "source": [
    "def check_winner(board):\n",
    "    for row in board:\n",
    "        if row_equal(row):\n",
    "            return row[0]\n",
    "    for column in board.T:\n",
    "        if row_equal(column):\n",
    "            return column[0] \n",
    "    if row_equal(np.diag(board)):\n",
    "        return np.diag(board)[0]\n",
    "    if row_equal(np.diag(np.fliplr(board))):\n",
    "        return np.diag(np.fliplr(board))[0]\n",
    "    return None\n",
    "            "
   ]
  },
  {
   "cell_type": "code",
   "execution_count": 227,
   "metadata": {
    "scrolled": true
   },
   "outputs": [],
   "source": [
    "def available_moves(board):\n",
    "    return np.argwhere(board == ' ')"
   ]
  },
  {
   "cell_type": "markdown",
   "metadata": {},
   "source": [
    "## Implementing minimax"
   ]
  },
  {
   "cell_type": "code",
   "execution_count": 228,
   "metadata": {},
   "outputs": [],
   "source": [
    "def minimax(board, depth, state, quiet = False):\n",
    "    tab = depth*'\\t'\n",
    "    if not quiet:\n",
    "        print(tab + display(board).replace('\\n', f'\\n{tab}'))\n",
    "    if check_winner(board):\n",
    "        if check_winner(board) == 'X':\n",
    "            return 1\n",
    "        else:\n",
    "            return -1\n",
    "    elif len(available_moves(board)) == 0:\n",
    "        return 0\n",
    "    if state == 'X':\n",
    "        value = -100\n",
    "        for move in available_moves(board):\n",
    "            board_copy = deepcopy(board)\n",
    "            board_copy[move[0],move[1]] = state\n",
    "            value = max(value, minimax(board_copy, depth + 1, 'O', quiet = quiet))\n",
    "        return value\n",
    "    elif state == 'O':\n",
    "        value = 100\n",
    "        for move in available_moves(board):\n",
    "            board_copy = deepcopy(board)\n",
    "            board_copy[move[0],move[1]] = state\n",
    "            value = min(value, minimax(board_copy, depth + 1, 'X', quiet = quiet))\n",
    "        return value"
   ]
  },
  {
   "cell_type": "markdown",
   "metadata": {},
   "source": [
    "## Running a game where X is gauranteed to win"
   ]
  },
  {
   "cell_type": "code",
   "execution_count": 229,
   "metadata": {},
   "outputs": [],
   "source": [
    "board = np.full((3, 3), ' ')"
   ]
  },
  {
   "cell_type": "code",
   "execution_count": 230,
   "metadata": {},
   "outputs": [],
   "source": [
    "board[0,0] = 'X'\n",
    "board[1,1] = 'O'\n",
    "board[0,1] = 'O'\n",
    "board[1,0] = 'O'\n",
    "board[1,2] = 'X'\n",
    "board[2,1] = 'X'"
   ]
  },
  {
   "cell_type": "code",
   "execution_count": 231,
   "metadata": {
    "scrolled": true
   },
   "outputs": [
    {
     "name": "stdout",
     "output_type": "stream",
     "text": [
      "X|O| \n",
      "-----\n",
      "O|O|X\n",
      "-----\n",
      " |X| \n"
     ]
    }
   ],
   "source": [
    "print(display(board))"
   ]
  },
  {
   "cell_type": "markdown",
   "metadata": {},
   "source": [
    "### Minimax returns 1, with optimal play that is gaurenteed"
   ]
  },
  {
   "cell_type": "code",
   "execution_count": 232,
   "metadata": {
    "scrolled": false
   },
   "outputs": [
    {
     "name": "stdout",
     "output_type": "stream",
     "text": [
      "X|O| \n",
      "-----\n",
      "O|O|X\n",
      "-----\n",
      " |X| \n",
      "\tX|O|X\n",
      "\t-----\n",
      "\tO|O|X\n",
      "\t-----\n",
      "\t |X| \n",
      "\t\tX|O|X\n",
      "\t\t-----\n",
      "\t\tO|O|X\n",
      "\t\t-----\n",
      "\t\tO|X| \n",
      "\t\t\tX|O|X\n",
      "\t\t\t-----\n",
      "\t\t\tO|O|X\n",
      "\t\t\t-----\n",
      "\t\t\tO|X|X\n",
      "\t\tX|O|X\n",
      "\t\t-----\n",
      "\t\tO|O|X\n",
      "\t\t-----\n",
      "\t\t |X|O\n",
      "\t\t\tX|O|X\n",
      "\t\t\t-----\n",
      "\t\t\tO|O|X\n",
      "\t\t\t-----\n",
      "\t\t\tX|X|O\n",
      "\tX|O| \n",
      "\t-----\n",
      "\tO|O|X\n",
      "\t-----\n",
      "\tX|X| \n",
      "\t\tX|O|O\n",
      "\t\t-----\n",
      "\t\tO|O|X\n",
      "\t\t-----\n",
      "\t\tX|X| \n",
      "\t\t\tX|O|O\n",
      "\t\t\t-----\n",
      "\t\t\tO|O|X\n",
      "\t\t\t-----\n",
      "\t\t\tX|X|X\n",
      "\t\tX|O| \n",
      "\t\t-----\n",
      "\t\tO|O|X\n",
      "\t\t-----\n",
      "\t\tX|X|O\n",
      "\t\t\tX|O|X\n",
      "\t\t\t-----\n",
      "\t\t\tO|O|X\n",
      "\t\t\t-----\n",
      "\t\t\tX|X|O\n",
      "\tX|O| \n",
      "\t-----\n",
      "\tO|O|X\n",
      "\t-----\n",
      "\t |X|X\n",
      "\t\tX|O|O\n",
      "\t\t-----\n",
      "\t\tO|O|X\n",
      "\t\t-----\n",
      "\t\t |X|X\n",
      "\t\t\tX|O|O\n",
      "\t\t\t-----\n",
      "\t\t\tO|O|X\n",
      "\t\t\t-----\n",
      "\t\t\tX|X|X\n",
      "\t\tX|O| \n",
      "\t\t-----\n",
      "\t\tO|O|X\n",
      "\t\t-----\n",
      "\t\tO|X|X\n",
      "\t\t\tX|O|X\n",
      "\t\t\t-----\n",
      "\t\t\tO|O|X\n",
      "\t\t\t-----\n",
      "\t\t\tO|X|X\n"
     ]
    },
    {
     "data": {
      "text/plain": [
       "1"
      ]
     },
     "execution_count": 232,
     "metadata": {},
     "output_type": "execute_result"
    }
   ],
   "source": [
    "minimax(board, 0, 'X')"
   ]
  },
  {
   "cell_type": "markdown",
   "metadata": {},
   "source": [
    "### Examining just the first level of the tree"
   ]
  },
  {
   "cell_type": "code",
   "execution_count": 233,
   "metadata": {
    "scrolled": true
   },
   "outputs": [
    {
     "name": "stdout",
     "output_type": "stream",
     "text": [
      "Row: 0, Column: 2 Optimal Value: 0\n",
      "Row: 2, Column: 0 Optimal Value: 0\n",
      "Row: 2, Column: 2 Optimal Value: 1\n"
     ]
    }
   ],
   "source": [
    "depth = 0\n",
    "for move in available_moves(board):\n",
    "    board_copy = deepcopy(board)\n",
    "    board_copy[move[0],move[1]] = 'X'\n",
    "    value = minimax(board_copy, depth + 1, 'O', quiet = True)\n",
    "    print(f'Row: {move[0]}, Column: {move[1]} Optimal Value:', value)"
   ]
  },
  {
   "cell_type": "markdown",
   "metadata": {},
   "source": [
    "## A game where the best you can do is tie"
   ]
  },
  {
   "cell_type": "code",
   "execution_count": 234,
   "metadata": {},
   "outputs": [],
   "source": [
    "board = np.full((3, 3), ' ')"
   ]
  },
  {
   "cell_type": "code",
   "execution_count": 235,
   "metadata": {},
   "outputs": [],
   "source": [
    "board[0,0] = 'X'\n",
    "board[1,1] = 'O'\n",
    "board[0,1] = 'O'\n",
    "board[2,0] = 'O'\n",
    "board[1,2] = 'X'\n",
    "board[2,1] = 'X'"
   ]
  },
  {
   "cell_type": "code",
   "execution_count": 236,
   "metadata": {},
   "outputs": [
    {
     "data": {
      "text/plain": [
       "array([['X', 'O', ' '],\n",
       "       [' ', 'O', 'X'],\n",
       "       ['O', 'X', ' ']], dtype='<U1')"
      ]
     },
     "execution_count": 236,
     "metadata": {},
     "output_type": "execute_result"
    }
   ],
   "source": [
    "board"
   ]
  },
  {
   "cell_type": "code",
   "execution_count": 237,
   "metadata": {},
   "outputs": [
    {
     "data": {
      "text/plain": [
       "0"
      ]
     },
     "execution_count": 237,
     "metadata": {},
     "output_type": "execute_result"
    }
   ],
   "source": [
    "minimax(board, 0, 'X', quiet = True)"
   ]
  },
  {
   "cell_type": "markdown",
   "metadata": {},
   "source": [
    "# Cool it works!"
   ]
  }
 ],
 "metadata": {
  "kernelspec": {
   "display_name": "Python 3",
   "language": "python",
   "name": "python3"
  },
  "language_info": {
   "codemirror_mode": {
    "name": "ipython",
    "version": 3
   },
   "file_extension": ".py",
   "mimetype": "text/x-python",
   "name": "python",
   "nbconvert_exporter": "python",
   "pygments_lexer": "ipython3",
   "version": "3.7.3"
  }
 },
 "nbformat": 4,
 "nbformat_minor": 2
}
