{
 "cells": [
  {
   "cell_type": "code",
   "execution_count": 1,
   "metadata": {},
   "outputs": [],
   "source": [
    "import numpy as np\n",
    "from copy import deepcopy\n",
    "from ipywidgets import interact, interactive, fixed, interact_manual, Layout\n",
    "import ipywidgets as widgets\n",
    "from tictactoe import init_board, show_board, check_winner, available_moves"
   ]
  },
  {
   "cell_type": "code",
   "execution_count": 2,
   "metadata": {},
   "outputs": [],
   "source": [
    "board = init_board()"
   ]
  },
  {
   "cell_type": "code",
   "execution_count": 3,
   "metadata": {},
   "outputs": [],
   "source": [
    "def alpha_beta_minimax(board, depth, state, alpha, beta, quiet = False):\n",
    "    '''\n",
    "    On first call set alpha = -100 and beta = 100\n",
    "    '''\n",
    "    tab = depth*'\\t'\n",
    "    if not quiet:\n",
    "        print(tab + show_board(board).replace('\\n', f'\\n{tab}'))\n",
    "    if check_winner(board):\n",
    "        if check_winner(board) == 'X':\n",
    "            return 1\n",
    "        else:\n",
    "            return -1\n",
    "    elif len(available_moves(board)) == 0:\n",
    "        return 0\n",
    "    if state == 'X':\n",
    "        value = -100\n",
    "        for move in available_moves(board):\n",
    "            board_copy = deepcopy(board)\n",
    "            board_copy[move[0],move[1]] = state\n",
    "            value = max(value, alpha_beta_minimax(board_copy, depth + 1, 'O', alpha, beta, quiet = quiet))\n",
    "            alpha = max(alpha, value)\n",
    "            if beta <= alpha:\n",
    "                break\n",
    "        return value\n",
    "    elif state == 'O':\n",
    "        value = 100\n",
    "        for move in available_moves(board):\n",
    "            board_copy = deepcopy(board)\n",
    "            board_copy[move[0],move[1]] = state\n",
    "            value = min(value, alpha_beta_minimax(board_copy, depth + 1, 'X', alpha, beta, quiet = quiet))\n",
    "            beta = min(beta, value)\n",
    "            if beta <= alpha:\n",
    "                break\n",
    "        return value"
   ]
  },
  {
   "cell_type": "code",
   "execution_count": 4,
   "metadata": {},
   "outputs": [],
   "source": [
    "moves = [','.join(str(y) for y in x) for x in available_moves(board)]"
   ]
  },
  {
   "cell_type": "code",
   "execution_count": 5,
   "metadata": {},
   "outputs": [],
   "source": [
    "enter_output = widgets.Output()"
   ]
  },
  {
   "cell_type": "code",
   "execution_count": 6,
   "metadata": {},
   "outputs": [],
   "source": [
    "def play_move(dummy):\n",
    "    selected_move = [int(x) for x in drop.value.split(',')]\n",
    "    with enter_output:\n",
    "        print(f'Row: {selected_move[0]}, Column: {selected_move[1]}')\n",
    "    if board[selected_move[0],selected_move[1]] != ' ': \n",
    "        with enter_output:\n",
    "            print('Space Already Taken')       \n",
    "    else:\n",
    "        board[selected_move[0],selected_move[1]] = 'X'\n",
    "        set_move = None\n",
    "        set_value = 100\n",
    "        if len(available_moves(board)) > 0:\n",
    "            for move in available_moves(board):\n",
    "                board_copy = deepcopy(board)\n",
    "                board_copy[move[0],move[1]] = 'O'\n",
    "                min_value = alpha_beta_minimax(board_copy, 0, 'X',-100, 100, quiet = True)\n",
    "                if min_value < set_value:\n",
    "                        set_move = move\n",
    "                        set_value = min_value\n",
    "            board[set_move[0],set_move[1]] = 'O'\n",
    "        with enter_output:\n",
    "            print(show_board(board))\n",
    "            "
   ]
  },
  {
   "cell_type": "code",
   "execution_count": 7,
   "metadata": {},
   "outputs": [],
   "source": [
    "drop = widgets.Dropdown(\n",
    "    options=moves,\n",
    "    description='Move (Row, Column):',\n",
    "    disabled=False,\n",
    "    style={'description_width': 'initial'}\n",
    ")"
   ]
  },
  {
   "cell_type": "code",
   "execution_count": 8,
   "metadata": {},
   "outputs": [],
   "source": [
    "enter = widgets.Button(\n",
    "    description='Enter',\n",
    "    disabled=False,\n",
    "    button_style='', # 'success', 'info', 'warning', 'danger' or ''\n",
    "    tooltip='Play',\n",
    "    icon='check'\n",
    ")"
   ]
  },
  {
   "cell_type": "code",
   "execution_count": 9,
   "metadata": {},
   "outputs": [],
   "source": [
    "enter.on_click(play_move)"
   ]
  },
  {
   "cell_type": "code",
   "execution_count": 10,
   "metadata": {},
   "outputs": [
    {
     "name": "stdout",
     "output_type": "stream",
     "text": [
      " | | \n",
      "-----\n",
      " | | \n",
      "-----\n",
      " | | \n"
     ]
    }
   ],
   "source": [
    "print(show_board(board))"
   ]
  },
  {
   "cell_type": "code",
   "execution_count": 11,
   "metadata": {},
   "outputs": [
    {
     "data": {
      "application/vnd.jupyter.widget-view+json": {
       "model_id": "c71ac0bc74a74809a37ccc9f54378885",
       "version_major": 2,
       "version_minor": 0
      },
      "text/plain": [
       "Dropdown(description='Move (Row, Column):', options=('0,0', '0,1', '0,2', '1,0', '1,1', '1,2', '2,0', '2,1', '…"
      ]
     },
     "metadata": {},
     "output_type": "display_data"
    },
    {
     "data": {
      "application/vnd.jupyter.widget-view+json": {
       "model_id": "19e1d37c4c0543d6bcbdf2c1dbdfdb67",
       "version_major": 2,
       "version_minor": 0
      },
      "text/plain": [
       "Button(description='Enter', icon='check', style=ButtonStyle(), tooltip='Play')"
      ]
     },
     "metadata": {},
     "output_type": "display_data"
    },
    {
     "data": {
      "application/vnd.jupyter.widget-view+json": {
       "model_id": "71bb4b4424c64ed09ac6edcdcdb01303",
       "version_major": 2,
       "version_minor": 0
      },
      "text/plain": [
       "Output()"
      ]
     },
     "metadata": {},
     "output_type": "display_data"
    }
   ],
   "source": [
    "display(drop, enter, enter_output)"
   ]
  }
 ],
 "metadata": {
  "kernelspec": {
   "display_name": "Python 3",
   "language": "python",
   "name": "python3"
  },
  "language_info": {
   "codemirror_mode": {
    "name": "ipython",
    "version": 3
   },
   "file_extension": ".py",
   "mimetype": "text/x-python",
   "name": "python",
   "nbconvert_exporter": "python",
   "pygments_lexer": "ipython3",
   "version": "3.7.3"
  }
 },
 "nbformat": 4,
 "nbformat_minor": 2
}
