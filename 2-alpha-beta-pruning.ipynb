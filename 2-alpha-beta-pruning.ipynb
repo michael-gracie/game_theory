{
 "cells": [
  {
   "cell_type": "code",
   "execution_count": 22,
   "metadata": {},
   "outputs": [],
   "source": [
    "import numpy as np\n",
    "from copy import deepcopy\n",
    "from ipywidgets import interact, interactive, fixed, interact_manual, Layout\n",
    "import ipywidgets as widgets\n",
    "from tictactoe import init_board, show_board, check_winner, available_moves"
   ]
  },
  {
   "cell_type": "markdown",
   "metadata": {},
   "source": [
    "## Vanilla minimax"
   ]
  },
  {
   "cell_type": "markdown",
   "metadata": {},
   "source": [
    "reg_nodes = 0"
   ]
  },
  {
   "cell_type": "code",
   "execution_count": 36,
   "metadata": {},
   "outputs": [],
   "source": [
    "def minimax(board, depth, state, quiet = False):\n",
    "    global reg_nodes\n",
    "    reg_nodes += 1\n",
    "    tab = depth*'\\t'\n",
    "    if not quiet:\n",
    "        print(tab + show_board(board).replace('\\n', f'\\n{tab}'))\n",
    "    if check_winner(board):\n",
    "        if check_winner(board) == 'X':\n",
    "            return 1\n",
    "        else:\n",
    "            return -1\n",
    "    elif len(available_moves(board)) == 0:\n",
    "        return 0\n",
    "    if state == 'X':\n",
    "        value = -100\n",
    "        for move in available_moves(board):\n",
    "            board_copy = deepcopy(board)\n",
    "            board_copy[move[0],move[1]] = state\n",
    "            value = max(value, minimax(board_copy, depth + 1, 'O', quiet = quiet))\n",
    "        return value\n",
    "    elif state == 'O':\n",
    "        value = 100\n",
    "        for move in available_moves(board):\n",
    "            board_copy = deepcopy(board)\n",
    "            board_copy[move[0],move[1]] = state\n",
    "            value = min(value, minimax(board_copy, depth + 1, 'X', quiet = quiet))\n",
    "        return value"
   ]
  },
  {
   "cell_type": "markdown",
   "metadata": {},
   "source": [
    "## Minimax with alpha beta pruning"
   ]
  },
  {
   "cell_type": "code",
   "execution_count": 37,
   "metadata": {},
   "outputs": [],
   "source": [
    "alpha_beta_nodes = 0"
   ]
  },
  {
   "cell_type": "code",
   "execution_count": 38,
   "metadata": {},
   "outputs": [],
   "source": [
    "def alpha_beta_minimax(board, depth, state, alpha, beta, quiet = False):\n",
    "    '''\n",
    "    On first call set alpha = -100 and beta = 100\n",
    "    '''\n",
    "    global alpha_beta_nodes\n",
    "    alpha_beta_nodes += 1\n",
    "    tab = depth*'\\t'\n",
    "    if not quiet:\n",
    "        print(tab + show_board(board).replace('\\n', f'\\n{tab}'))\n",
    "    if check_winner(board):\n",
    "        if check_winner(board) == 'X':\n",
    "            return 1\n",
    "        else:\n",
    "            return -1\n",
    "    elif len(available_moves(board)) == 0:\n",
    "        return 0\n",
    "    if state == 'X':\n",
    "        value = -100\n",
    "        for move in available_moves(board):\n",
    "            board_copy = deepcopy(board)\n",
    "            board_copy[move[0],move[1]] = state\n",
    "            value = max(value, alpha_beta_minimax(board_copy, depth + 1, 'O', alpha, beta, quiet = quiet))\n",
    "            alpha = max(alpha, value)\n",
    "            if beta <= alpha:\n",
    "                break\n",
    "        return value\n",
    "    elif state == 'O':\n",
    "        value = 100\n",
    "        for move in available_moves(board):\n",
    "            board_copy = deepcopy(board)\n",
    "            board_copy[move[0],move[1]] = state\n",
    "            value = min(value, alpha_beta_minimax(board_copy, depth + 1, 'X', alpha, beta, quiet = quiet))\n",
    "            beta = min(beta, value)\n",
    "            if beta <= alpha:\n",
    "                break\n",
    "        return value"
   ]
  },
  {
   "cell_type": "markdown",
   "metadata": {},
   "source": [
    "## Comparing the number of iterations"
   ]
  },
  {
   "cell_type": "code",
   "execution_count": 39,
   "metadata": {},
   "outputs": [],
   "source": [
    "board = init_board()\n",
    "board[1,1] = 'X'"
   ]
  },
  {
   "cell_type": "code",
   "execution_count": 43,
   "metadata": {},
   "outputs": [
    {
     "name": "stdout",
     "output_type": "stream",
     "text": [
      " | | \n",
      "-----\n",
      " |X| \n",
      "-----\n",
      " | | \n"
     ]
    }
   ],
   "source": [
    "print(show_board(board))"
   ]
  },
  {
   "cell_type": "code",
   "execution_count": 40,
   "metadata": {},
   "outputs": [
    {
     "data": {
      "text/plain": [
       "0"
      ]
     },
     "execution_count": 40,
     "metadata": {},
     "output_type": "execute_result"
    }
   ],
   "source": [
    "minimax(board, 0, 'O', quiet = True)"
   ]
  },
  {
   "cell_type": "code",
   "execution_count": 41,
   "metadata": {},
   "outputs": [
    {
     "data": {
      "text/plain": [
       "0"
      ]
     },
     "execution_count": 41,
     "metadata": {},
     "output_type": "execute_result"
    }
   ],
   "source": [
    "alpha_beta_minimax(board, 0, 'O', -100, 100, quiet=True)"
   ]
  },
  {
   "cell_type": "code",
   "execution_count": 44,
   "metadata": {
    "scrolled": true
   },
   "outputs": [
    {
     "name": "stdout",
     "output_type": "stream",
     "text": [
      "Number of nodes evaluated with regular implementation: 55505\n",
      "Number of nodes evaluated with alpha beta pruning: 2316\n"
     ]
    }
   ],
   "source": [
    "print(f'Number of nodes evaluated with regular implementation: {reg_nodes}')\n",
    "print(f'Number of nodes evaluated with alpha beta pruning: {alpha_beta_nodes}')"
   ]
  },
  {
   "cell_type": "markdown",
   "metadata": {},
   "source": [
    "## Alpha beta pruning algorithm improves computation quite a bit"
   ]
  }
 ],
 "metadata": {
  "kernelspec": {
   "display_name": "Python 3",
   "language": "python",
   "name": "python3"
  },
  "language_info": {
   "codemirror_mode": {
    "name": "ipython",
    "version": 3
   },
   "file_extension": ".py",
   "mimetype": "text/x-python",
   "name": "python",
   "nbconvert_exporter": "python",
   "pygments_lexer": "ipython3",
   "version": "3.7.3"
  }
 },
 "nbformat": 4,
 "nbformat_minor": 2
}
