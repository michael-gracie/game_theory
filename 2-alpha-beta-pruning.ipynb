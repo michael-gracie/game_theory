{
 "cells": [
  {
   "cell_type": "code",
   "execution_count": 1,
   "metadata": {},
   "outputs": [],
   "source": [
    "import numpy as np\n",
    "from copy import deepcopy\n",
    "from ipywidgets import interact, interactive, fixed, interact_manual, Layout\n",
    "import ipywidgets as widgets"
   ]
  },
  {
   "cell_type": "code",
   "execution_count": 2,
   "metadata": {},
   "outputs": [],
   "source": [
    "def show_board(board):\n",
    "    output = ''\n",
    "    first_line = True\n",
    "    for line in board:\n",
    "        first_element = True\n",
    "        if first_line:\n",
    "            for element in line:\n",
    "                if first_element:\n",
    "                    first_element = False\n",
    "                    output += f'{element}'   \n",
    "                else:\n",
    "                    output += f'|{element}'          \n",
    "            first_line = False\n",
    "        else:\n",
    "            output += '\\n-----\\n'\n",
    "            for element in line:\n",
    "                if first_element:\n",
    "                    first_element = False\n",
    "                    output += f'{element}'   \n",
    "                else:\n",
    "                    output += f'|{element}'\n",
    "    return output"
   ]
  },
  {
   "cell_type": "code",
   "execution_count": 3,
   "metadata": {},
   "outputs": [],
   "source": [
    "def row_equal(row):\n",
    "    if len(set(row)) == 1 and ' ' not in row:\n",
    "        return True"
   ]
  },
  {
   "cell_type": "code",
   "execution_count": 4,
   "metadata": {},
   "outputs": [],
   "source": [
    "def check_winner(board):\n",
    "    for row in board:\n",
    "        if row_equal(row):\n",
    "            return row[0]\n",
    "    for column in board.T:\n",
    "        if row_equal(column):\n",
    "            return column[0] \n",
    "    if row_equal(np.diag(board)):\n",
    "        return np.diag(board)[0]\n",
    "    if row_equal(np.diag(np.fliplr(board))):\n",
    "        return np.diag(np.fliplr(board))[0]\n",
    "    return None"
   ]
  },
  {
   "cell_type": "code",
   "execution_count": 5,
   "metadata": {},
   "outputs": [],
   "source": [
    "def available_moves(board):\n",
    "    return np.argwhere(board == ' ')"
   ]
  },
  {
   "cell_type": "markdown",
   "metadata": {},
   "source": [
    "## Vanilla Minimax"
   ]
  },
  {
   "cell_type": "code",
   "execution_count": 6,
   "metadata": {},
   "outputs": [],
   "source": [
    "reg_nodes = 0"
   ]
  },
  {
   "cell_type": "code",
   "execution_count": 7,
   "metadata": {},
   "outputs": [],
   "source": [
    "def minimax(board, depth, state, quiet = False):\n",
    "    global reg_nodes\n",
    "    reg_nodes += 1\n",
    "    tab = depth*'\\t'\n",
    "    if not quiet:\n",
    "        print(tab + show_board(board).replace('\\n', f'\\n{tab}'))\n",
    "    if check_winner(board):\n",
    "        if check_winner(board) == 'X':\n",
    "            return 1\n",
    "        else:\n",
    "            return -1\n",
    "    elif len(available_moves(board)) == 0:\n",
    "        return 0\n",
    "    if state == 'X':\n",
    "        value = -100\n",
    "        for move in available_moves(board):\n",
    "            board_copy = deepcopy(board)\n",
    "            board_copy[move[0],move[1]] = state\n",
    "            value = max(value, minimax(board_copy, depth + 1, 'O', quiet = quiet))\n",
    "        return value\n",
    "    elif state == 'O':\n",
    "        value = 100\n",
    "        for move in available_moves(board):\n",
    "            board_copy = deepcopy(board)\n",
    "            board_copy[move[0],move[1]] = state\n",
    "            value = min(value, minimax(board_copy, depth + 1, 'X', quiet = quiet))\n",
    "        return value"
   ]
  },
  {
   "cell_type": "markdown",
   "metadata": {},
   "source": [
    "## Minimax with alpha beta pruning"
   ]
  },
  {
   "cell_type": "code",
   "execution_count": 8,
   "metadata": {},
   "outputs": [],
   "source": [
    "alpha_beta_nodes = 0"
   ]
  },
  {
   "cell_type": "code",
   "execution_count": 9,
   "metadata": {},
   "outputs": [],
   "source": [
    "def alpha_beta_minimax(board, depth, state, alpha, beta, quiet = False):\n",
    "    '''\n",
    "    On first call set alpha = -100 and beta = 100\n",
    "    '''\n",
    "    global alpha_beta_nodes\n",
    "    alpha_beta_nodes += 1\n",
    "    tab = depth*'\\t'\n",
    "    if not quiet:\n",
    "        print(tab + show_board(board).replace('\\n', f'\\n{tab}'))\n",
    "    if check_winner(board):\n",
    "        if check_winner(board) == 'X':\n",
    "            return 1\n",
    "        else:\n",
    "            return -1\n",
    "    elif len(available_moves(board)) == 0:\n",
    "        return 0\n",
    "    if state == 'X':\n",
    "        value = -100\n",
    "        for move in available_moves(board):\n",
    "            board_copy = deepcopy(board)\n",
    "            board_copy[move[0],move[1]] = state\n",
    "            value = max(value, alpha_beta_minimax(board_copy, depth + 1, 'O', alpha, beta, quiet = quiet))\n",
    "            alpha = max(alpha, value)\n",
    "            if beta <= alpha:\n",
    "                break\n",
    "        return value\n",
    "    elif state == 'O':\n",
    "        value = 100\n",
    "        for move in available_moves(board):\n",
    "            board_copy = deepcopy(board)\n",
    "            board_copy[move[0],move[1]] = state\n",
    "            value = min(value, alpha_beta_minimax(board_copy, depth + 1, 'X', alpha, beta, quiet = quiet))\n",
    "            beta = min(beta, value)\n",
    "            if beta <= alpha:\n",
    "                break\n",
    "        return value"
   ]
  },
  {
   "cell_type": "markdown",
   "metadata": {},
   "source": [
    "## Comparing the number of iterations"
   ]
  },
  {
   "cell_type": "code",
   "execution_count": 10,
   "metadata": {},
   "outputs": [],
   "source": [
    "board = np.full((3, 3), ' ')"
   ]
  },
  {
   "cell_type": "code",
   "execution_count": 11,
   "metadata": {},
   "outputs": [],
   "source": [
    "board[0,0] = 'X'"
   ]
  },
  {
   "cell_type": "code",
   "execution_count": null,
   "metadata": {},
   "outputs": [],
   "source": []
  },
  {
   "cell_type": "code",
   "execution_count": 12,
   "metadata": {},
   "outputs": [
    {
     "data": {
      "text/plain": [
       "0"
      ]
     },
     "execution_count": 12,
     "metadata": {},
     "output_type": "execute_result"
    }
   ],
   "source": [
    "minimax(board, 0, 'O', quiet = True)"
   ]
  },
  {
   "cell_type": "code",
   "execution_count": 13,
   "metadata": {},
   "outputs": [
    {
     "data": {
      "text/plain": [
       "0"
      ]
     },
     "execution_count": 13,
     "metadata": {},
     "output_type": "execute_result"
    }
   ],
   "source": [
    "alpha_beta_minimax(board, 0, 'O', -100, 100, quiet=True)"
   ]
  },
  {
   "cell_type": "code",
   "execution_count": 14,
   "metadata": {
    "scrolled": true
   },
   "outputs": [
    {
     "name": "stdout",
     "output_type": "stream",
     "text": [
      "Number of iterations of regular implementation: 59705\n",
      "Number of iterations with alpha beta pruning: 2338\n"
     ]
    }
   ],
   "source": [
    "print(f'Number of iterations of regular implementation: {reg_nodes}')\n",
    "print(f'Number of iterations with alpha beta pruning: {alpha_beta_nodes}')"
   ]
  },
  {
   "cell_type": "markdown",
   "metadata": {},
   "source": [
    "## Cool it looks like our alpha beta pruning algorithm improves computation quite a bit"
   ]
  }
 ],
 "metadata": {
  "kernelspec": {
   "display_name": "Python 3",
   "language": "python",
   "name": "python3"
  },
  "language_info": {
   "codemirror_mode": {
    "name": "ipython",
    "version": 3
   },
   "file_extension": ".py",
   "mimetype": "text/x-python",
   "name": "python",
   "nbconvert_exporter": "python",
   "pygments_lexer": "ipython3",
   "version": "3.7.3"
  }
 },
 "nbformat": 4,
 "nbformat_minor": 2
}
